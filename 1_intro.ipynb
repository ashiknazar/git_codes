{
 "cells": [
  {
   "cell_type": "markdown",
   "metadata": {},
   "source": [
    "- download git and install on pc\n",
    "- create github account"
   ]
  },
  {
   "cell_type": "markdown",
   "metadata": {},
   "source": [
    "- git is a distributed version control system\n",
    "- github is a repository\n"
   ]
  },
  {
   "cell_type": "markdown",
   "metadata": {},
   "source": [
    "- after installing git \n",
    "   - go to location where you want to track files -> right click on empty space -> ``git bash here`` | or go to terminal\n",
    "   - ``git init``"
   ]
  },
  {
   "cell_type": "markdown",
   "metadata": {},
   "source": [
    "##### setup configuration \n",
    "- used this setup to connect a distant github repository to git.\n",
    "   -  `git config --global user.name \"username\"`   | replace 'username' with your github username \n",
    "   - `git confir --global user.email youremail@add.com`  | replace 'youremail@add.com' with your email\n",
    "   - ``git config --global init.default branch main``  | setting default branch to main"
   ]
  },
  {
   "cell_type": "markdown",
   "metadata": {},
   "source": [
    "- ``git config -h``  | for help about command config\n",
    "-  ``git help config``"
   ]
  },
  {
   "cell_type": "markdown",
   "metadata": {},
   "source": [
    " - ``git status ``\n",
    "      - gives status of our repository\n",
    "      - gives untracked files\n",
    "      - if any changes are made to these untracked files git doesnt care\n",
    "      - if track, git will care about changes\n",
    "- ``git add index.html``  \n",
    "      - this will track 'index.html'\n",
    "      - ``git rm --cached index.html``  | to unstage or untrack a file\n",
    "- to ignore a file that need to be kept secretly we can use ``.gitignore``file\n",
    "     - create a file named '.gitignore'\n",
    "     - inside which i can define a file that need to be kept untracked  , like type 'salaries.txt' inside\n",
    "- `` git add . ``\n",
    "     - to track all files instead of adding one by one.\n",
    "     - all files will move to a staging environment\n",
    "-  ``git commit -m \"message\" ``   | writing an entry into history book ,so can refer that later   "
   ]
  },
  {
   "cell_type": "markdown",
   "metadata": {},
   "source": [
    "- if a change is made to a file \n",
    "    - checking status shows as modified\n",
    "    - ``git diff `` | this will show the difference between old and new\n",
    "    - can add and commit\n",
    "    "
   ]
  },
  {
   "cell_type": "markdown",
   "metadata": {},
   "source": [
    "___\n",
    "in git there are 3 environments\n",
    " - working files\n",
    "     -  where you can make edits to files\n",
    " - staging\n",
    "     - where it is ready to add to history book\n",
    " - commit\n",
    "     - added as a log\n",
    "___"
   ]
  },
  {
   "cell_type": "markdown",
   "metadata": {},
   "source": [
    "- ``git add index.html``\n",
    "- if not ready to commit can remove from staging by `` git restore --staged index.html``\n",
    "- now it cant be commited,it is in working environment"
   ]
  }
 ],
 "metadata": {
  "language_info": {
   "name": "python"
  }
 },
 "nbformat": 4,
 "nbformat_minor": 2
}
