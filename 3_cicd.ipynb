{
 "cells": [
  {
   "cell_type": "markdown",
   "metadata": {},
   "source": [
    "#### github action\n",
    "- is a powerful automation tool provided by github that enables developers to automate tasks realted to their software development workflows .it allows for creation of custom workflows,which can be triggered by various events,suzh as push to repository,pull requests,or sheduled events.these workflows can be used for various purposes, including continuous integration ,continuous deployment,testing ..\n"
   ]
  },
  {
   "cell_type": "markdown",
   "metadata": {},
   "source": [
    "- <b>continuous integration and continuous deployment </b>:\n",
    "  both can be facilitated by github action\n",
    "- Continuous Integration: where developers frequently merge their code changes into shared repository.  each merge triggers an automated build and test process to ensure the changes do not break the existing functionality.\n",
    "- Continuous deployment: cd extends the concept of ci by automating the deployment of code to production environment after it passes all required tests.github actions can be configured to automatically deploy applications to various environments such as staging or production .\n"
   ]
  },
  {
   "cell_type": "markdown",
   "metadata": {},
   "source": [
    "### CD\n",
    "- local -> Github Repo\n",
    "- enivronments\n",
    "   - DEV \n",
    "   - QA\n",
    "   - UAT \n",
    "   - PRODUCTION ENV"
   ]
  },
  {
   "cell_type": "markdown",
   "metadata": {},
   "source": []
  }
 ],
 "metadata": {
  "language_info": {
   "name": "python"
  }
 },
 "nbformat": 4,
 "nbformat_minor": 2
}
