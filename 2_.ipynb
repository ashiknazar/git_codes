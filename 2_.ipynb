{
 "cells": [
  {
   "cell_type": "markdown",
   "metadata": {},
   "source": [
    "`git add index.htm`\n",
    "- track files -> so git know if any changes is made and can go back to old\n",
    "- to remove a tracked file `git rm --cached index.htm `\n"
   ]
  },
  {
   "cell_type": "markdown",
   "metadata": {},
   "source": [
    " ___\n",
    " - to track all files\n",
    " - `git add .`\n",
    " - ` git add --all`\n",
    " - ` git add -A`"
   ]
  },
  {
   "cell_type": "markdown",
   "metadata": {},
   "source": [
    "___\n",
    "- now they are all in an environment called staging \n",
    "- commit is like taking a snapshot of repository,or how all files looks like now\n",
    "- ` git commit -m \"msg\" `\n"
   ]
  },
  {
   "cell_type": "markdown",
   "metadata": {},
   "source": [
    "___\n",
    "- make changes to a file\n",
    "- check git status,(can see modified file )\n",
    "- `git diff` to show changes \n",
    "- git add,git commit\n",
    "___"
   ]
  },
  {
   "cell_type": "markdown",
   "metadata": {},
   "source": [
    "- in git there are three different environments\n",
    "     - working files\n",
    "     - staging\n",
    "     - commit\n",
    "___\n",
    "- git add index.htm\n",
    "- `git restore --staged index.htm`\n",
    "___\n",
    "- `git commit -a -m \"update\" `\n",
    "___\n"
   ]
  },
  {
   "cell_type": "markdown",
   "metadata": {},
   "source": [
    "- if deleted a file,shown in status as deleted\n",
    "\n",
    "    - `git restore \"file.extension\"`\n",
    "- renaming a file\n",
    "       - `git mv \"oldname.extension\"  \"newname.extension\"`\n",
    "       - git commit -m \"change name\"\n",
    "___"
   ]
  },
  {
   "cell_type": "markdown",
   "metadata": {},
   "source": [
    "- to view all commit \n",
    "   - `git log`\n",
    "   -  `git log --online` more abreviated version\n",
    "   - ammend commit msg of previous commit \n",
    "        - `git commit -m \"new msg\" --amend\n",
    "   ___\n",
    "   "
   ]
  },
  {
   "cell_type": "markdown",
   "metadata": {},
   "source": [
    "- what change happended in commit\n",
    "  - `git log -p`           Press `Q` to exit out of this view"
   ]
  },
  {
   "cell_type": "markdown",
   "metadata": {},
   "source": [
    "___\n",
    "- to jump back to previous commit\n",
    "     - `git reset c193744`  commit hash"
   ]
  },
  {
   "cell_type": "markdown",
   "metadata": {},
   "source": [
    "___\n",
    "- we can edit what appear in log\n",
    "- `git rebase -i --root`\n",
    "___\n"
   ]
  },
  {
   "cell_type": "markdown",
   "metadata": {},
   "source": [
    "- `git branch Fixtemp`\n",
    "- `git branch` lists all available branch\n",
    "- ` git switch Fixtemp`\n",
    "- make changes to a file (from fixtemp branch) and commit\n",
    "- switch to main branch\n",
    "-  to merge changes\n",
    "         - `git merge -m \"merge fixtemp to main\" Fixtemp `\n",
    "- since merged we can delete the branch if we want\n",
    "     - `git branch -d Fixtemp` \n"
   ]
  },
  {
   "cell_type": "markdown",
   "metadata": {},
   "source": [
    "___\n",
    "- IF a branch had made a change in a portion and main also made changes in the same portion ,there will arise a merge conflict\n",
    "- `git switch -c UpdateText` this will create new branch and switch\n",
    "\n",
    "- make changes in both branches to make a conflict\n",
    "-  'git merge UpdateText ' will arise conflict problem\n",
    "- if we open the conflict file in say file explorer , we will see \n",
    "\n",
    "\n"
   ]
  },
  {
   "cell_type": "raw",
   "metadata": {
    "vscode": {
     "languageId": "raw"
    }
   },
   "source": [
    "<<<<<HEAD\n",
    "<p>content of branch main</p>\n",
    "======\n",
    "<p>Content of branch UpdateText</p>\n",
    ">>>>> UpdateText `\n"
   ]
  },
  {
   "cell_type": "markdown",
   "metadata": {
    "vscode": {
     "languageId": "raw"
    }
   },
   "source": [
    "-  remove a prtion and fix\n",
    "- git commit\n",
    "___"
   ]
  },
  {
   "cell_type": "markdown",
   "metadata": {},
   "source": [
    "- since we have two branches ,we can push through all branches\n",
    "- ` git push --all`"
   ]
  },
  {
   "cell_type": "markdown",
   "metadata": {},
   "source": [
    "___\n",
    "- in git hub we can \n",
    "   - create a new issue\n",
    "     - assign to someone\n",
    "     - assign a label\n",
    "     - submit new issue\n",
    "   - to solve issue (like wrong content) we may have to change content.\n",
    "   - commit from main branch or create a new branch to make commit and start a pull request\n",
    "   - propose changes\n",
    "   - create pull request\n",
    "   - development -> tie change/pull request to issue\n",
    "   - confirm merge -> will close the issue\n",
    "   \n"
   ]
  },
  {
   "cell_type": "markdown",
   "metadata": {},
   "source": []
  },
  {
   "cell_type": "markdown",
   "metadata": {},
   "source": [
    "___\n",
    "- git fetch\n"
   ]
  }
 ],
 "metadata": {
  "kernelspec": {
   "display_name": "base",
   "language": "python",
   "name": "python3"
  },
  "language_info": {
   "codemirror_mode": {
    "name": "ipython",
    "version": 3
   },
   "file_extension": ".py",
   "mimetype": "text/x-python",
   "name": "python",
   "nbconvert_exporter": "python",
   "pygments_lexer": "ipython3",
   "version": "3.12.7"
  }
 },
 "nbformat": 4,
 "nbformat_minor": 2
}
